{
  "nbformat": 4,
  "nbformat_minor": 0,
  "metadata": {
    "colab": {
      "name": "DATAPROC.ipynb",
      "provenance": [],
      "collapsed_sections": [],
      "authorship_tag": "ABX9TyPO+ZM8A3J5G8zO37mKwkK0",
      "include_colab_link": true
    },
    "kernelspec": {
      "name": "python3",
      "display_name": "Python 3"
    }
  },
  "cells": [
    {
      "cell_type": "markdown",
      "metadata": {
        "id": "view-in-github",
        "colab_type": "text"
      },
      "source": [
        "<a href=\"https://colab.research.google.com/github/Taro489/Tugas_IndividuBigData/blob/master/DATAPROC.ipynb\" target=\"_parent\"><img src=\"https://colab.research.google.com/assets/colab-badge.svg\" alt=\"Open In Colab\"/></a>"
      ]
    },
    {
      "cell_type": "markdown",
      "metadata": {
        "id": "Lj39rH8JGklD",
        "colab_type": "text"
      },
      "source": [
        "# DATA PROCESSING"
      ]
    },
    {
      "cell_type": "code",
      "metadata": {
        "id": "noARsB2y-mar",
        "colab_type": "code",
        "colab": {}
      },
      "source": [
        "!apt-get install openjdk-8-jdk-headless -qq > /dev/null\n",
        "!wget -q http://www-eu.apache.org/dist/spark/spark-2.4.6/spark-2.4.6-bin-hadoop2.7.tgz\n",
        "!tar xf spark-2.4.6-bin-hadoop2.7.tgz\n",
        "!pip install -q findspark\n",
        "!pip install -q pyspark_dist_explore"
      ],
      "execution_count": 1,
      "outputs": []
    },
    {
      "cell_type": "code",
      "metadata": {
        "id": "OQaNkNNg_Uoi",
        "colab_type": "code",
        "colab": {}
      },
      "source": [
        "import os\n",
        "os.environ[\"JAVA_HOME\"] = \"/usr/lib/jvm/java-8-openjdk-amd64\"\n",
        "os.environ[\"SPARK_HOME\"] = \"/content/spark-2.4.6-bin-hadoop2.7\""
      ],
      "execution_count": 2,
      "outputs": []
    },
    {
      "cell_type": "code",
      "metadata": {
        "id": "Ac6eRljN_Xi4",
        "colab_type": "code",
        "colab": {}
      },
      "source": [
        "import findspark\n",
        "findspark.init(\"spark-2.4.6-bin-hadoop2.7\")# SPARK_HOME\n",
        "from pyspark.sql import SparkSession\n",
        "spark = SparkSession.builder.master(\"local[*]\").getOrCreate()\n",
        "from pyspark.sql.functions import *\n",
        "import matplotlib.pyplot as plt\n",
        "from pyspark_dist_explore import Histogram, hist"
      ],
      "execution_count": 3,
      "outputs": []
    },
    {
      "cell_type": "code",
      "metadata": {
        "id": "7OKBz30tjkix",
        "colab_type": "code",
        "colab": {}
      },
      "source": [
        "from collections import Counter\n",
        "import pandas as pd\n",
        "import seaborn as sn\n",
        "import numpy as np\n",
        "import csv"
      ],
      "execution_count": 5,
      "outputs": []
    },
    {
      "cell_type": "code",
      "metadata": {
        "id": "eNW7WU2MGVXe",
        "colab_type": "code",
        "colab": {
          "base_uri": "https://localhost:8080/",
          "height": 329
        },
        "outputId": "1b87b02a-a282-41c1-94e9-61c73c06f861"
      },
      "source": [
        "sc = spark.sparkContext\n",
        "spark = SparkSession(sc)\n",
        "\n",
        "\n",
        "spotify_df = spark.read.csv(\"datasets_456949_861300_top10s.csv\", header=True, inferSchema=True)\n",
        "spotify_df.printSchema() "
      ],
      "execution_count": 7,
      "outputs": [
        {
          "output_type": "stream",
          "text": [
            "root\n",
            " |-- _c0: integer (nullable = true)\n",
            " |-- title: string (nullable = true)\n",
            " |-- artist: string (nullable = true)\n",
            " |-- top genre: string (nullable = true)\n",
            " |-- year: integer (nullable = true)\n",
            " |-- bpm: integer (nullable = true)\n",
            " |-- nrgy: integer (nullable = true)\n",
            " |-- dnce: integer (nullable = true)\n",
            " |-- dB: integer (nullable = true)\n",
            " |-- live: integer (nullable = true)\n",
            " |-- val: integer (nullable = true)\n",
            " |-- dur: integer (nullable = true)\n",
            " |-- acous: integer (nullable = true)\n",
            " |-- spch: integer (nullable = true)\n",
            " |-- pop: integer (nullable = true)\n",
            "\n"
          ],
          "name": "stdout"
        }
      ]
    },
    {
      "cell_type": "code",
      "metadata": {
        "id": "W5Ms42ExdQL8",
        "colab_type": "code",
        "colab": {
          "base_uri": "https://localhost:8080/",
          "height": 182
        },
        "outputId": "ac8ea63c-3afc-4b7d-aef6-9216f3808284"
      },
      "source": [
        "spotify_df.show(3)"
      ],
      "execution_count": 8,
      "outputs": [
        {
          "output_type": "stream",
          "text": [
            "+---+--------------------+------+---------------+----+---+----+----+---+----+---+---+-----+----+---+\n",
            "|_c0|               title|artist|      top genre|year|bpm|nrgy|dnce| dB|live|val|dur|acous|spch|pop|\n",
            "+---+--------------------+------+---------------+----+---+----+----+---+----+---+---+-----+----+---+\n",
            "|  1|    Hey, Soul Sister| Train|     neo mellow|2010| 97|  89|  67| -4|   8| 80|217|   19|   4| 83|\n",
            "|  2|Love The Way You Lie|Eminem|detroit hip hop|2010| 87|  93|  75| -5|  52| 64|263|   24|  23| 82|\n",
            "|  3|             TiK ToK| Kesha|      dance pop|2010|120|  84|  76| -3|  29| 71|200|   10|  14| 80|\n",
            "+---+--------------------+------+---------------+----+---+----+----+---+----+---+---+-----+----+---+\n",
            "only showing top 3 rows\n",
            "\n"
          ],
          "name": "stdout"
        }
      ]
    },
    {
      "cell_type": "code",
      "metadata": {
        "id": "TfFxyWPfGZf9",
        "colab_type": "code",
        "colab": {
          "base_uri": "https://localhost:8080/",
          "height": 1000
        },
        "outputId": "49633c8e-9824-48e5-bb06-b3df20db34e1"
      },
      "source": [
        "spotify_df.groupby(\"top genre\").count().sort(col(\"count\").desc()).show(100, False)"
      ],
      "execution_count": null,
      "outputs": [
        {
          "output_type": "stream",
          "text": [
            "+-------------------------+-----+\n",
            "|top genre                |count|\n",
            "+-------------------------+-----+\n",
            "|dance pop                |327  |\n",
            "|pop                      |60   |\n",
            "|canadian pop             |34   |\n",
            "|barbadian pop            |15   |\n",
            "|boy band                 |15   |\n",
            "|electropop               |13   |\n",
            "|british soul             |11   |\n",
            "|big room                 |10   |\n",
            "|canadian contemporary r&b|9    |\n",
            "|neo mellow               |9    |\n",
            "|art pop                  |8    |\n",
            "|complextro               |6    |\n",
            "|hip pop                  |6    |\n",
            "|australian dance         |6    |\n",
            "|atl hip hop              |5    |\n",
            "|australian pop           |5    |\n",
            "|edm                      |5    |\n",
            "|latin                    |4    |\n",
            "|hip hop                  |4    |\n",
            "|permanent wave           |4    |\n",
            "|colombian pop            |3    |\n",
            "|tropical house           |3    |\n",
            "|folk-pop                 |2    |\n",
            "|belgian edm              |2    |\n",
            "|escape room              |2    |\n",
            "|acoustic pop             |2    |\n",
            "|canadian hip hop         |2    |\n",
            "|indie pop                |2    |\n",
            "|downtempo                |2    |\n",
            "|detroit hip hop          |2    |\n",
            "|electronic trap          |2    |\n",
            "|candy pop                |2    |\n",
            "|electro                  |2    |\n",
            "|brostep                  |2    |\n",
            "|baroque pop              |2    |\n",
            "|australian hip hop       |1    |\n",
            "|contemporary country     |1    |\n",
            "|celtic rock              |1    |\n",
            "|irish singer-songwriter  |1    |\n",
            "|alaska indie             |1    |\n",
            "|french indie pop         |1    |\n",
            "|chicago rap              |1    |\n",
            "|moroccan pop             |1    |\n",
            "|house                    |1    |\n",
            "|canadian latin           |1    |\n",
            "|electro house            |1    |\n",
            "|danish pop               |1    |\n",
            "|hollywood                |1    |\n",
            "|alternative r&b          |1    |\n",
            "|metropopolis             |1    |\n",
            "+-------------------------+-----+\n",
            "\n"
          ],
          "name": "stdout"
        }
      ]
    },
    {
      "cell_type": "markdown",
      "metadata": {
        "id": "UlUAfvG5FTbi",
        "colab_type": "text"
      },
      "source": [
        "Seleksi data yang digunakan dan ditulis lagi kedalam csv yang baru"
      ]
    },
    {
      "cell_type": "code",
      "metadata": {
        "id": "i9z-0RvB34-f",
        "colab_type": "code",
        "colab": {}
      },
      "source": [
        "spotify_df1 = spotify_df.withColumnRenamed(\"top genre\", \"genre\")\n",
        "spotify_df1.createOrReplaceTempView(\"songs\")\n",
        "df1 = spark.sql('''select genre, COUNT(genre) category_count from songs WHERE year = 2010 group by genre''')\n",
        "df1.coalesce(1).write.csv(\"/content/df1.csv\")"
      ],
      "execution_count": 10,
      "outputs": []
    },
    {
      "cell_type": "code",
      "metadata": {
        "id": "800OVyG3FpOR",
        "colab_type": "code",
        "colab": {
          "base_uri": "https://localhost:8080/",
          "height": 348
        },
        "outputId": "b509eda4-5e4e-4f93-fba7-11a0e02e933b"
      },
      "source": [
        "spotify_genre = spotify_df.groupby(\"top genre\",\"year\")\n",
        "spotify_genre.count().filter(\"year = 2010\").show()"
      ],
      "execution_count": 25,
      "outputs": [
        {
          "output_type": "stream",
          "text": [
            "+---------------+----+-----+\n",
            "|      top genre|year|count|\n",
            "+---------------+----+-----+\n",
            "|        hip pop|2010|    3|\n",
            "|     neo mellow|2010|    1|\n",
            "|      indie pop|2010|    1|\n",
            "|    atl hip hop|2010|    3|\n",
            "|  barbadian pop|2010|    2|\n",
            "|      dance pop|2010|   31|\n",
            "|   canadian pop|2010|    1|\n",
            "|detroit hip hop|2010|    1|\n",
            "|       big room|2010|    1|\n",
            "|  colombian pop|2010|    1|\n",
            "|        art pop|2010|    1|\n",
            "| australian pop|2010|    2|\n",
            "|            pop|2010|    3|\n",
            "+---------------+----+-----+\n",
            "\n"
          ],
          "name": "stdout"
        }
      ]
    },
    {
      "cell_type": "code",
      "metadata": {
        "id": "J7xzDgLw2upA",
        "colab_type": "code",
        "colab": {}
      },
      "source": [
        "df2 = spark.sql('''select genre, COUNT(genre) category_count from songs WHERE year = 2011 group by genre''')\n",
        "df2.coalesce(1).write.csv(\"/content/df2\")"
      ],
      "execution_count": 15,
      "outputs": []
    },
    {
      "cell_type": "code",
      "metadata": {
        "id": "Botkje0_Fuee",
        "colab_type": "code",
        "colab": {
          "base_uri": "https://localhost:8080/",
          "height": 274
        },
        "outputId": "1689f496-e3b0-47fa-e05f-e6389f9cdcbd"
      },
      "source": [
        "spotify_genre.count().filter(\"year = 2011\").show()"
      ],
      "execution_count": 27,
      "outputs": [
        {
          "output_type": "stream",
          "text": [
            "+--------------+----+-----+\n",
            "|     top genre|year|count|\n",
            "+--------------+----+-----+\n",
            "|     dance pop|2011|   38|\n",
            "|  british soul|2011|    2|\n",
            "|           pop|2011|    4|\n",
            "|   atl hip hop|2011|    1|\n",
            "|  canadian pop|2011|    1|\n",
            "|  acoustic pop|2011|    1|\n",
            "|australian pop|2011|    1|\n",
            "|   chicago rap|2011|    1|\n",
            "| barbadian pop|2011|    4|\n",
            "+--------------+----+-----+\n",
            "\n"
          ],
          "name": "stdout"
        }
      ]
    },
    {
      "cell_type": "code",
      "metadata": {
        "id": "Hg0RXPiDA5u-",
        "colab_type": "code",
        "colab": {}
      },
      "source": [
        "df3 = spark.sql('''select genre, COUNT(genre) category_count from songs WHERE year = 2012 group by genre''')\n",
        "df3.coalesce(1).write.csv(\"/content/df3\")"
      ],
      "execution_count": 16,
      "outputs": []
    },
    {
      "cell_type": "code",
      "metadata": {
        "id": "x2FHR7vrF3IC",
        "colab_type": "code",
        "colab": {
          "base_uri": "https://localhost:8080/",
          "height": 274
        },
        "outputId": "139c5b5e-3e4d-40a8-9034-a97aae8bcd18"
      },
      "source": [
        "spotify_genre.count().filter(\"year = 2012\").show()"
      ],
      "execution_count": 28,
      "outputs": [
        {
          "output_type": "stream",
          "text": [
            "+--------------+----+-----+\n",
            "|     top genre|year|count|\n",
            "+--------------+----+-----+\n",
            "|  british soul|2012|    1|\n",
            "|           pop|2012|    7|\n",
            "|   baroque pop|2012|    2|\n",
            "|     dance pop|2012|   15|\n",
            "| barbadian pop|2012|    3|\n",
            "|  canadian pop|2012|    3|\n",
            "|permanent wave|2012|    1|\n",
            "|      boy band|2012|    2|\n",
            "|australian pop|2012|    1|\n",
            "+--------------+----+-----+\n",
            "\n"
          ],
          "name": "stdout"
        }
      ]
    },
    {
      "cell_type": "code",
      "metadata": {
        "id": "0Md5xQObA_vN",
        "colab_type": "code",
        "colab": {}
      },
      "source": [
        "df4 = spark.sql('''select genre, COUNT(genre) category_count from songs WHERE year = 2013 group by genre''')\n",
        "df4.coalesce(1).write.csv(\"/content/df4\")"
      ],
      "execution_count": 17,
      "outputs": []
    },
    {
      "cell_type": "code",
      "metadata": {
        "id": "a7gbiLIgF0lx",
        "colab_type": "code",
        "colab": {
          "base_uri": "https://localhost:8080/",
          "height": 439
        },
        "outputId": "619a34cb-addc-42af-87d6-7526edbce961"
      },
      "source": [
        "spotify_genre.count().filter(\"year = 2013\").show()"
      ],
      "execution_count": 29,
      "outputs": [
        {
          "output_type": "stream",
          "text": [
            "+----------------+----+-----+\n",
            "|       top genre|year|count|\n",
            "+----------------+----+-----+\n",
            "|     celtic rock|2013|    1|\n",
            "|             pop|2013|    5|\n",
            "|        big room|2013|    2|\n",
            "|         electro|2013|    2|\n",
            "|   barbadian pop|2013|    1|\n",
            "|    acoustic pop|2013|    1|\n",
            "|  permanent wave|2013|    1|\n",
            "|     atl hip hop|2013|    1|\n",
            "|         hip pop|2013|    1|\n",
            "|       indie pop|2013|    1|\n",
            "|      complextro|2013|    1|\n",
            "|       dance pop|2013|   42|\n",
            "|         art pop|2013|    1|\n",
            "|canadian hip hop|2013|    1|\n",
            "|        boy band|2013|    6|\n",
            "|    alaska indie|2013|    1|\n",
            "|       candy pop|2013|    1|\n",
            "|    canadian pop|2013|    2|\n",
            "+----------------+----+-----+\n",
            "\n"
          ],
          "name": "stdout"
        }
      ]
    },
    {
      "cell_type": "code",
      "metadata": {
        "id": "DWijUb_oCtoe",
        "colab_type": "code",
        "colab": {}
      },
      "source": [
        "df5 = spark.sql('''select genre, COUNT(genre) category_count from songs WHERE year = 2014 group by genre''')\n",
        "df5.coalesce(1).write.csv(\"/content/df5\")"
      ],
      "execution_count": 18,
      "outputs": []
    },
    {
      "cell_type": "code",
      "metadata": {
        "id": "CS-jRyU8F5nZ",
        "colab_type": "code",
        "colab": {
          "base_uri": "https://localhost:8080/",
          "height": 439
        },
        "outputId": "4fdc0ea4-1a8d-4393-9ffe-2f8f6ffd03e0"
      },
      "source": [
        "spotify_genre.count().filter(\"year = 2014\").show()"
      ],
      "execution_count": 30,
      "outputs": [
        {
          "output_type": "stream",
          "text": [
            "+------------------+----+-----+\n",
            "|         top genre|year|count|\n",
            "+------------------+----+-----+\n",
            "|     colombian pop|2014|    2|\n",
            "|               pop|2014|    9|\n",
            "|          folk-pop|2014|    1|\n",
            "|        neo mellow|2014|    6|\n",
            "|    permanent wave|2014|    1|\n",
            "|          boy band|2014|    1|\n",
            "|        electropop|2014|    1|\n",
            "|  australian dance|2014|    1|\n",
            "|      metropopolis|2014|    1|\n",
            "|           hip pop|2014|    1|\n",
            "|             house|2014|    1|\n",
            "|          big room|2014|    1|\n",
            "|australian hip hop|2014|    1|\n",
            "|        complextro|2014|    1|\n",
            "|         hollywood|2014|    1|\n",
            "|         candy pop|2014|    1|\n",
            "|         dance pop|2014|   27|\n",
            "|           art pop|2014|    1|\n",
            "+------------------+----+-----+\n",
            "\n"
          ],
          "name": "stdout"
        }
      ]
    },
    {
      "cell_type": "code",
      "metadata": {
        "id": "VbMgJ8QYCuRc",
        "colab_type": "code",
        "colab": {}
      },
      "source": [
        "df6 = spark.sql('''select genre, COUNT(genre) category_count from songs WHERE year = 2015 group by genre''')\n",
        "df6.coalesce(1).write.csv(\"/content/df6\")"
      ],
      "execution_count": 19,
      "outputs": []
    },
    {
      "cell_type": "code",
      "metadata": {
        "id": "N7lbWkMwF7bh",
        "colab_type": "code",
        "colab": {
          "base_uri": "https://localhost:8080/",
          "height": 439
        },
        "outputId": "1e768d1d-bb40-45bb-fe98-f84679f917aa"
      },
      "source": [
        "spotify_genre.count().filter(\"year = 2015\").show()"
      ],
      "execution_count": 31,
      "outputs": [
        {
          "output_type": "stream",
          "text": [
            "+--------------------+----+-----+\n",
            "|           top genre|year|count|\n",
            "+--------------------+----+-----+\n",
            "|        british soul|2015|    2|\n",
            "|          complextro|2015|    1|\n",
            "|      australian pop|2015|    1|\n",
            "|        canadian pop|2015|   11|\n",
            "|       barbadian pop|2015|    2|\n",
            "|            boy band|2015|    3|\n",
            "|           dance pop|2015|   52|\n",
            "|            big room|2015|    2|\n",
            "|                 pop|2015|    8|\n",
            "|    australian dance|2015|    2|\n",
            "|irish singer-song...|2015|    1|\n",
            "|    french indie pop|2015|    1|\n",
            "|             hip hop|2015|    1|\n",
            "|canadian contempo...|2015|    3|\n",
            "|      tropical house|2015|    2|\n",
            "|             hip pop|2015|    1|\n",
            "|         belgian edm|2015|    1|\n",
            "|             art pop|2015|    1|\n",
            "+--------------------+----+-----+\n",
            "\n"
          ],
          "name": "stdout"
        }
      ]
    },
    {
      "cell_type": "code",
      "metadata": {
        "id": "uHYRkROYCulk",
        "colab_type": "code",
        "colab": {}
      },
      "source": [
        "df7 = spark.sql('''select genre, COUNT(genre) category_count from songs WHERE year = 2016 group by genre''')\n",
        "df7.coalesce(1).write.csv(\"/content/df7\")"
      ],
      "execution_count": 20,
      "outputs": []
    },
    {
      "cell_type": "code",
      "metadata": {
        "id": "s9foU-qyF87h",
        "colab_type": "code",
        "colab": {
          "base_uri": "https://localhost:8080/",
          "height": 458
        },
        "outputId": "d666f3fd-a14f-44fc-8c1f-92e84d1fdd91"
      },
      "source": [
        "spotify_genre.count().filter(\"year = 2016\").show()"
      ],
      "execution_count": 32,
      "outputs": [
        {
          "output_type": "stream",
          "text": [
            "+--------------------+----+-----+\n",
            "|           top genre|year|count|\n",
            "+--------------------+----+-----+\n",
            "|             hip hop|2016|    1|\n",
            "|       barbadian pop|2016|    2|\n",
            "|                 pop|2016|    1|\n",
            "|          neo mellow|2016|    2|\n",
            "|    canadian hip hop|2016|    1|\n",
            "|        canadian pop|2016|    7|\n",
            "|canadian contempo...|2016|    3|\n",
            "|           dance pop|2016|   46|\n",
            "|          electropop|2016|    4|\n",
            "|          complextro|2016|    1|\n",
            "|            big room|2016|    1|\n",
            "|      canadian latin|2016|    1|\n",
            "|            folk-pop|2016|    1|\n",
            "|      tropical house|2016|    1|\n",
            "|    australian dance|2016|    1|\n",
            "|        british soul|2016|    4|\n",
            "|             art pop|2016|    1|\n",
            "|          danish pop|2016|    1|\n",
            "|               latin|2016|    1|\n",
            "+--------------------+----+-----+\n",
            "\n"
          ],
          "name": "stdout"
        }
      ]
    },
    {
      "cell_type": "code",
      "metadata": {
        "id": "BPKwKLS6Cuzi",
        "colab_type": "code",
        "colab": {}
      },
      "source": [
        "df8 = spark.sql('''select genre, COUNT(genre) category_count from songs WHERE year = 2017 group by genre''')\n",
        "df8.coalesce(1).write.csv(\"/content/df8\")"
      ],
      "execution_count": 21,
      "outputs": []
    },
    {
      "cell_type": "code",
      "metadata": {
        "id": "SGgyWOIOF-cJ",
        "colab_type": "code",
        "colab": {
          "base_uri": "https://localhost:8080/",
          "height": 439
        },
        "outputId": "7f3b8f80-9d1d-4603-ac79-4444519be39c"
      },
      "source": [
        "spotify_genre.count().filter(\"year = 2017\").show()"
      ],
      "execution_count": 33,
      "outputs": [
        {
          "output_type": "stream",
          "text": [
            "+--------------------+----+-----+\n",
            "|           top genre|year|count|\n",
            "+--------------------+----+-----+\n",
            "|canadian contempo...|2017|    3|\n",
            "|          complextro|2017|    2|\n",
            "|       electro house|2017|    1|\n",
            "|      permanent wave|2017|    1|\n",
            "|           dance pop|2017|   31|\n",
            "|                 pop|2017|    5|\n",
            "|               latin|2017|    1|\n",
            "|        british soul|2017|    2|\n",
            "|            big room|2017|    2|\n",
            "|        canadian pop|2017|    3|\n",
            "|             art pop|2017|    3|\n",
            "|           downtempo|2017|    1|\n",
            "|          electropop|2017|    3|\n",
            "|         belgian edm|2017|    1|\n",
            "|            boy band|2017|    1|\n",
            "|    australian dance|2017|    2|\n",
            "|     electronic trap|2017|    1|\n",
            "|                 edm|2017|    2|\n",
            "+--------------------+----+-----+\n",
            "\n"
          ],
          "name": "stdout"
        }
      ]
    },
    {
      "cell_type": "code",
      "metadata": {
        "id": "G6sjt9oTCwDU",
        "colab_type": "code",
        "colab": {}
      },
      "source": [
        "df9 = spark.sql('''select genre, COUNT(genre) category_count from songs WHERE year = 2018 group by genre''')\n",
        "df9.coalesce(1).write.csv(\"/content/df9\")"
      ],
      "execution_count": 22,
      "outputs": []
    },
    {
      "cell_type": "code",
      "metadata": {
        "id": "B1GiknXzF_6R",
        "colab_type": "code",
        "colab": {
          "base_uri": "https://localhost:8080/",
          "height": 348
        },
        "outputId": "180b4e42-192e-4317-fd9e-c95f2fa58140"
      },
      "source": [
        "spotify_genre.count().filter(\"year = 2018\").show()"
      ],
      "execution_count": 34,
      "outputs": [
        {
          "output_type": "stream",
          "text": [
            "+--------------------+----+-----+\n",
            "|           top genre|year|count|\n",
            "+--------------------+----+-----+\n",
            "|contemporary country|2018|    1|\n",
            "|                 edm|2018|    2|\n",
            "|          electropop|2018|    1|\n",
            "|               latin|2018|    1|\n",
            "|                 pop|2018|    9|\n",
            "|     detroit hip hop|2018|    1|\n",
            "|             hip hop|2018|    2|\n",
            "|           dance pop|2018|   38|\n",
            "|        canadian pop|2018|    5|\n",
            "|           downtempo|2018|    1|\n",
            "|             brostep|2018|    1|\n",
            "|       barbadian pop|2018|    1|\n",
            "|        moroccan pop|2018|    1|\n",
            "+--------------------+----+-----+\n",
            "\n"
          ],
          "name": "stdout"
        }
      ]
    },
    {
      "cell_type": "code",
      "metadata": {
        "id": "XdjBIYwRCwWl",
        "colab_type": "code",
        "colab": {}
      },
      "source": [
        "df10 = spark.sql('''select genre, COUNT(genre) category_count from songs WHERE year = 2019 group by genre''')\n",
        "df10.coalesce(1).write.csv(\"/content/df10\")"
      ],
      "execution_count": 23,
      "outputs": []
    },
    {
      "cell_type": "code",
      "metadata": {
        "id": "SQc-3I3OGDwK",
        "colab_type": "code",
        "colab": {
          "base_uri": "https://localhost:8080/",
          "height": 329
        },
        "outputId": "26a57af2-a775-476d-997f-2c06dc38b57c"
      },
      "source": [
        "spotify_genre.count().filter(\"year = 2019\").show()"
      ],
      "execution_count": 35,
      "outputs": [
        {
          "output_type": "stream",
          "text": [
            "+---------------+----+-----+\n",
            "|      top genre|year|count|\n",
            "+---------------+----+-----+\n",
            "|electronic trap|2019|    1|\n",
            "|     electropop|2019|    4|\n",
            "|       boy band|2019|    2|\n",
            "|   canadian pop|2019|    1|\n",
            "|        brostep|2019|    1|\n",
            "|            edm|2019|    1|\n",
            "|alternative r&b|2019|    1|\n",
            "|          latin|2019|    1|\n",
            "|    escape room|2019|    2|\n",
            "|      dance pop|2019|    7|\n",
            "|            pop|2019|    9|\n",
            "|       big room|2019|    1|\n",
            "+---------------+----+-----+\n",
            "\n"
          ],
          "name": "stdout"
        }
      ]
    }
  ]
}