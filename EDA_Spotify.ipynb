{
  "nbformat": 4,
  "nbformat_minor": 0,
  "metadata": {
    "colab": {
      "name": "EDA_Spotify.ipynb",
      "provenance": [],
      "authorship_tag": "ABX9TyOJ79ighASIrcaFRyv0PCuw",
      "include_colab_link": true
    },
    "kernelspec": {
      "name": "python3",
      "display_name": "Python 3"
    }
  },
  "cells": [
    {
      "cell_type": "markdown",
      "metadata": {
        "id": "view-in-github",
        "colab_type": "text"
      },
      "source": [
        "<a href=\"https://colab.research.google.com/github/Taro489/Tugas_IndividuBigData/blob/master/EDA_Spotify.ipynb\" target=\"_parent\"><img src=\"https://colab.research.google.com/assets/colab-badge.svg\" alt=\"Open In Colab\"/></a>"
      ]
    },
    {
      "cell_type": "code",
      "metadata": {
        "id": "QxLRJsrk5a0x",
        "colab_type": "code",
        "colab": {}
      },
      "source": [
        "!apt-get install openjdk-8-jdk-headless -qq > /dev/null\n",
        "!wget -q http://www-eu.apache.org/dist/spark/spark-2.4.6/spark-2.4.6-bin-hadoop2.7.tgz\n",
        "!tar xf spark-2.4.6-bin-hadoop2.7.tgz\n",
        "!pip install -q findspark\n",
        "!pip install -q pyspark_dist_explore"
      ],
      "execution_count": 2,
      "outputs": []
    },
    {
      "cell_type": "code",
      "metadata": {
        "id": "lN1f4C1U62w8",
        "colab_type": "code",
        "colab": {}
      },
      "source": [
        "import os\n",
        "os.environ[\"JAVA_HOME\"] = \"/usr/lib/jvm/java-8-openjdk-amd64\"\n",
        "os.environ[\"SPARK_HOME\"] = \"/content/spark-2.4.6-bin-hadoop2.7\""
      ],
      "execution_count": 3,
      "outputs": []
    },
    {
      "cell_type": "code",
      "metadata": {
        "id": "0iMPbDrS68dK",
        "colab_type": "code",
        "colab": {}
      },
      "source": [
        "import findspark\n",
        "findspark.init(\"spark-2.4.6-bin-hadoop2.7\")# SPARK_HOME\n",
        "from pyspark.sql import SparkSession\n",
        "spark = SparkSession.builder.master(\"local[*]\").getOrCreate()\n",
        "from pyspark.sql.functions import col, avg\n",
        "import matplotlib.pyplot as plt\n",
        "from pyspark_dist_explore import Histogram, hist"
      ],
      "execution_count": 5,
      "outputs": []
    },
    {
      "cell_type": "code",
      "metadata": {
        "id": "JepnXkxD7Gak",
        "colab_type": "code",
        "colab": {
          "base_uri": "https://localhost:8080/",
          "height": 329
        },
        "outputId": "21a12928-2e19-4f76-ec1d-7169b7ca5181"
      },
      "source": [
        "sc = spark.sparkContext\n",
        "spark = SparkSession(sc)\n",
        "\n",
        "spotify_df = spark.read.csv(\"datasets_456949_861300_top10s.csv\", header=True, inferSchema=True)\n",
        "spotify_df.printSchema()            #mengecek schema dari dataset"
      ],
      "execution_count": 7,
      "outputs": [
        {
          "output_type": "stream",
          "text": [
            "root\n",
            " |-- _c0: integer (nullable = true)\n",
            " |-- title: string (nullable = true)\n",
            " |-- artist: string (nullable = true)\n",
            " |-- top genre: string (nullable = true)\n",
            " |-- year: integer (nullable = true)\n",
            " |-- bpm: integer (nullable = true)\n",
            " |-- nrgy: integer (nullable = true)\n",
            " |-- dnce: integer (nullable = true)\n",
            " |-- dB: integer (nullable = true)\n",
            " |-- live: integer (nullable = true)\n",
            " |-- val: integer (nullable = true)\n",
            " |-- dur: integer (nullable = true)\n",
            " |-- acous: integer (nullable = true)\n",
            " |-- spch: integer (nullable = true)\n",
            " |-- pop: integer (nullable = true)\n",
            "\n"
          ],
          "name": "stdout"
        }
      ]
    },
    {
      "cell_type": "code",
      "metadata": {
        "id": "K1Nthjw77bxr",
        "colab_type": "code",
        "colab": {
          "base_uri": "https://localhost:8080/",
          "height": 54
        },
        "outputId": "08de6d8b-5b4e-41d1-a50d-487993538c93"
      },
      "source": [
        "print(\"Jumlah total music : \")\n",
        "spotify_df.count()"
      ],
      "execution_count": 8,
      "outputs": [
        {
          "output_type": "stream",
          "text": [
            "Jumlah total music : \n"
          ],
          "name": "stdout"
        },
        {
          "output_type": "execute_result",
          "data": {
            "text/plain": [
              "603"
            ]
          },
          "metadata": {
            "tags": []
          },
          "execution_count": 8
        }
      ]
    },
    {
      "cell_type": "markdown",
      "metadata": {
        "id": "odzELMXW9jbK",
        "colab_type": "text"
      },
      "source": [
        "Pada kolom genre semua telah terisi dan tidak ada data yang kosong"
      ]
    },
    {
      "cell_type": "code",
      "metadata": {
        "id": "Pprg9mIe7tNa",
        "colab_type": "code",
        "colab": {
          "base_uri": "https://localhost:8080/",
          "height": 237
        },
        "outputId": "b88d01f7-fc6e-42ee-9481-f3f6f2aff521"
      },
      "source": [
        "spotify_df.select(\"top genre\").describe().show()\n",
        "print(\"Jumlah kolom genre yang kosong : \")\n",
        "spotify_df.where(col(\"top genre\").isNull()).count()"
      ],
      "execution_count": 14,
      "outputs": [
        {
          "output_type": "stream",
          "text": [
            "+-------+--------------+\n",
            "|summary|     top genre|\n",
            "+-------+--------------+\n",
            "|  count|           603|\n",
            "|   mean|          null|\n",
            "| stddev|          null|\n",
            "|    min|  acoustic pop|\n",
            "|    max|tropical house|\n",
            "+-------+--------------+\n",
            "\n",
            "Jumlah kolom genre yang kosong : \n"
          ],
          "name": "stdout"
        },
        {
          "output_type": "execute_result",
          "data": {
            "text/plain": [
              "0"
            ]
          },
          "metadata": {
            "tags": []
          },
          "execution_count": 14
        }
      ]
    },
    {
      "cell_type": "markdown",
      "metadata": {
        "id": "s8qPyCK799fh",
        "colab_type": "text"
      },
      "source": [
        "Pada kolom year juga semua data telah terisi dan tidak ada yang kosong sehingga tidak perlu dilengkapi"
      ]
    },
    {
      "cell_type": "code",
      "metadata": {
        "id": "XyIXLTg_8Ckb",
        "colab_type": "code",
        "colab": {
          "base_uri": "https://localhost:8080/",
          "height": 237
        },
        "outputId": "14980553-02bb-484e-b8c4-59ad9ce9740d"
      },
      "source": [
        "spotify_df.select(\"year\").describe().show()\n",
        "print(\"Jumlah kolom tahun yang kosong : \")\n",
        "spotify_df.where(col(\"year\").isNull()).count()"
      ],
      "execution_count": 19,
      "outputs": [
        {
          "output_type": "stream",
          "text": [
            "+-------+-----------------+\n",
            "|summary|             year|\n",
            "+-------+-----------------+\n",
            "|  count|              603|\n",
            "|   mean|2014.592039800995|\n",
            "| stddev| 2.60705718410791|\n",
            "|    min|             2010|\n",
            "|    max|             2019|\n",
            "+-------+-----------------+\n",
            "\n",
            "Jumlah kolom tahun yang kosong : \n"
          ],
          "name": "stdout"
        },
        {
          "output_type": "execute_result",
          "data": {
            "text/plain": [
              "0"
            ]
          },
          "metadata": {
            "tags": []
          },
          "execution_count": 19
        }
      ]
    },
    {
      "cell_type": "code",
      "metadata": {
        "id": "JQ4HQCxF9QkD",
        "colab_type": "code",
        "colab": {
          "base_uri": "https://localhost:8080/",
          "height": 320
        },
        "outputId": "ce2b6dbf-5c64-4393-c619-4c882446596f"
      },
      "source": [
        "spotify_df_year = titanic_df.select(\"year\")\n",
        "\n",
        "fig, axes = plt.subplots()\n",
        "fig.set_size_inches(5, 5)\n",
        "hist(axes, spotify_df_year, bins=20, color=\"red\")\n",
        "plt.show()"
      ],
      "execution_count": 20,
      "outputs": [
        {
          "output_type": "display_data",
          "data": {
            "image/png": "[encoded data removed]",
            "text/plain": [
              "<Figure size 360x360 with 1 Axes>"
            ]
          },
          "metadata": {
            "tags": [],
            "needs_background": "light"
          }
        }
      ]
    }
  ]
}